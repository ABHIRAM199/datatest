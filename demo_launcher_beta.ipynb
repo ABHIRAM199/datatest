{
  "nbformat": 4,
  "nbformat_minor": 0,
  "metadata": {
    "colab": {
      "provenance": [],
      "authorship_tag": "ABX9TyMjsnIyEU61nKrVaexloJ50",
      "include_colab_link": true
    },
    "kernelspec": {
      "name": "python3",
      "display_name": "Python 3"
    },
    "language_info": {
      "name": "python"
    }
  },
  "cells": [
    {
      "cell_type": "markdown",
      "metadata": {
        "id": "view-in-github",
        "colab_type": "text"
      },
      "source": [
        "<a href=\"https://colab.research.google.com/github/ABHIRAM199/datatest/blob/main/demo_launcher_beta.ipynb\" target=\"_parent\"><img src=\"https://colab.research.google.com/assets/colab-badge.svg\" alt=\"Open In Colab\"/></a>"
      ]
    },
    {
      "cell_type": "code",
      "execution_count": 4,
      "metadata": {
        "colab": {
          "base_uri": "https://localhost:8080/"
        },
        "id": "Ixj0aKo44vqQ",
        "outputId": "fa9f2533-5545-458c-fd3a-29a285c00d01"
      },
      "outputs": [
        {
          "name": "stdout",
          "output_type": "stream",
          "text": [
            "\n",
            "1. Add Demo Entry\n",
            "2. Display Demo Schedule\n",
            "3. Exit\n",
            "Enter your choice (1/2/3): 1\n",
            "Enter student's name: ABHIRAM\n",
            "Enter employee ID: F16038\n",
            "Enter demo topic: LECTURE1\n",
            "Enter demo Date: 17/01/2024\n",
            "Enter demo Time: 2:30 TO 4\n"
          ]
        },
        {
          "output_type": "stream",
          "name": "stderr",
          "text": [
            "<ipython-input-4-88448f60aed4>:20: FutureWarning: The frame.append method is deprecated and will be removed from pandas in a future version. Use pandas.concat instead.\n",
            "  df = df.append(new_row, ignore_index=True)\n"
          ]
        },
        {
          "name": "stdout",
          "output_type": "stream",
          "text": [
            "Demo entry added successfully.\n",
            "\n",
            "1. Add Demo Entry\n",
            "2. Display Demo Schedule\n",
            "3. Exit\n",
            "Enter your choice (1/2/3): 2\n",
            "Demo Schedule:\n",
            "            Name Employee ID Demo Topic            Date Time    Demo Date  \\\n",
            "0     ABHIRAM TV      F16038   LECTURE1  2024-01-13 17:35:30          NaN   \n",
            "1          ROHIT      F16042   LECTURE2  2024-01-13 17:36:38          NaN   \n",
            "2     ABHIRAM TV      F16038   LECTURE1                  NaN   15/01/2024   \n",
            "3  SUBUDHI ROHIT      F16048  LECTURE 2                  NaN  16/01/20244   \n",
            "4      ABHIR PAL      F16052   LECTURE3                  NaN     18/01/24   \n",
            "5        ABHIRAM      F16038   LECTURE1                  NaN   17/01/2024   \n",
            "6          ROHIT      F16042   LETURE 2                  NaN   18/01/2024   \n",
            "7       ABIR PAL      F16052   LECTURE4                  NaN   20/01/2024   \n",
            "8        ABHIRAM      F16038   LECTURE1                  NaN   17/01/2024   \n",
            "\n",
            "          Demo Time  \n",
            "0               NaN  \n",
            "1               NaN  \n",
            "2              9:00  \n",
            "3      2:30 TO 4 PM  \n",
            "4      4:20 TO 5:50  \n",
            "5         2:30 TO 4  \n",
            "6  9:00 TO 10:15 AM  \n",
            "7      4:30 TO 6:00  \n",
            "8         2:30 TO 4  \n",
            "\n",
            "1. Add Demo Entry\n",
            "2. Display Demo Schedule\n",
            "3. Exit\n",
            "Enter your choice (1/2/3): 3\n"
          ]
        }
      ],
      "source": [
        "import pandas as pd\n",
        "\n",
        "\n",
        "def add_demo_entry():\n",
        "    name = input(\"Enter student's name: \")\n",
        "    employee_id = input(\"Enter employee ID: \")\n",
        "    demo_topic = input(\"Enter demo topic: \")\n",
        "    demo_date = input(\"Enter demo Date: \")\n",
        "    demo_time = input(\"Enter demo Time: \")\n",
        "\n",
        "    # Create or load the Excel file\n",
        "    try:\n",
        "        df = pd.read_excel('demo_schedule.xlsx')\n",
        "    except FileNotFoundError:\n",
        "        columns = ['Name', 'Employee ID', 'Demo Topic', 'Demo Date' 'Demo Time']\n",
        "        df = pd.DataFrame(columns=columns)\n",
        "\n",
        "    # Add a new row with the entered details\n",
        "    new_row = {'Name': name, 'Employee ID': employee_id, 'Demo Topic': demo_topic, 'Demo Date': demo_date, 'Demo Time': demo_time}\n",
        "    df = df.append(new_row, ignore_index=True)\n",
        "\n",
        "    # Save the updated DataFrame to the Excel file\n",
        "    df.to_excel('demo_schedule.xlsx', index=False)\n",
        "    print(\"Demo entry added successfully.\")\n",
        "\n",
        "def display_demo_schedule():\n",
        "    try:\n",
        "        df = pd.read_excel('demo_schedule.xlsx')\n",
        "        print(\"Demo Schedule:\")\n",
        "        print(df)\n",
        "    except FileNotFoundError:\n",
        "        print(\"No demo entries found.\")\n",
        "\n",
        "# Main program loop\n",
        "while True:\n",
        "    print(\"\\n1. Add Demo Entry\")\n",
        "    print(\"2. Display Demo Schedule\")\n",
        "    print(\"3. Exit\")\n",
        "\n",
        "    choice = input(\"Enter your choice (1/2/3): \")\n",
        "\n",
        "    if choice == '1':\n",
        "        add_demo_entry()\n",
        "    elif choice == '2':\n",
        "        display_demo_schedule()\n",
        "    elif choice == '3':\n",
        "        break\n",
        "    else:\n",
        "        print(\"Invalid choice. Please enter 1, 2, or 3.\")\n"
      ]
    }
  ]
}